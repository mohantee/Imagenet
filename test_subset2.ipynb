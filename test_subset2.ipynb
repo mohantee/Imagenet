{
 "cells": [
  {
   "cell_type": "markdown",
   "metadata": {
    "id": "FzFmcBENmYyH"
   },
   "source": [
    "# 🧠 ResNet-50 Training on ImageNet 100 Subset\n",
    "This Colab notebook will:\n",
    "- 📥 Download ImageNet 100 dataset\n",
    "- 🧠 Train a ResNet-50 at 224×224 resolution\n",
    "- 💾 Save the best checkpoint\n",
    "- 🧪 Evaluate accuracy"
   ]
  },
  {
   "cell_type": "code",
   "execution_count": null,
   "metadata": {
    "execution": {
     "iopub.execute_input": "2025-10-20T07:58:48.717724Z",
     "iopub.status.busy": "2025-10-20T07:58:48.716994Z",
     "iopub.status.idle": "2025-10-20T07:58:48.840844Z",
     "shell.execute_reply": "2025-10-20T07:58:48.840101Z",
     "shell.execute_reply.started": "2025-10-20T07:58:48.717693Z"
    },
    "trusted": true
   },
   "outputs": [
    {
     "name": "stdout",
     "output_type": "stream",
     "text": [
      "/kaggle/working/checkpoints/model_checkpoint.pth\n"
     ]
    }
   ],
   "source": [
    "# !mkdir -p /kaggle/working/checkpoint\n",
    "# !cp /kaggle/input/checkpoint1/*.pth /kaggle/working/checkpoints/\n",
    "!ls /kaggle/working/checkpoints/model_checkpoint.pth"
   ]
  },
  {
   "cell_type": "code",
   "execution_count": 15,
   "metadata": {
    "execution": {
     "iopub.execute_input": "2025-10-20T07:58:51.142194Z",
     "iopub.status.busy": "2025-10-20T07:58:51.141646Z",
     "iopub.status.idle": "2025-10-20T07:58:51.333990Z",
     "shell.execute_reply": "2025-10-20T07:58:51.333270Z",
     "shell.execute_reply.started": "2025-10-20T07:58:51.142167Z"
    },
    "trusted": true
   },
   "outputs": [
    {
     "name": "stdout",
     "output_type": "stream",
     "text": [
      "Mon Oct 20 07:58:51 2025       \n",
      "+-----------------------------------------------------------------------------------------+\n",
      "| NVIDIA-SMI 560.35.03              Driver Version: 560.35.03      CUDA Version: 12.6     |\n",
      "|-----------------------------------------+------------------------+----------------------+\n",
      "| GPU  Name                 Persistence-M | Bus-Id          Disp.A | Volatile Uncorr. ECC |\n",
      "| Fan  Temp   Perf          Pwr:Usage/Cap |           Memory-Usage | GPU-Util  Compute M. |\n",
      "|                                         |                        |               MIG M. |\n",
      "|=========================================+========================+======================|\n",
      "|   0  Tesla P100-PCIE-16GB           Off |   00000000:00:04.0 Off |                    0 |\n",
      "| N/A   35C    P0             26W /  250W |       0MiB /  16384MiB |      0%      Default |\n",
      "|                                         |                        |                  N/A |\n",
      "+-----------------------------------------+------------------------+----------------------+\n",
      "                                                                                         \n",
      "+-----------------------------------------------------------------------------------------+\n",
      "| Processes:                                                                              |\n",
      "|  GPU   GI   CI        PID   Type   Process name                              GPU Memory |\n",
      "|        ID   ID                                                               Usage      |\n",
      "|=========================================================================================|\n",
      "|  No running processes found                                                             |\n",
      "+-----------------------------------------------------------------------------------------+\n"
     ]
    }
   ],
   "source": [
    "\n",
    "# 🧰 Kaggle Environment Setup\n",
    "import os\n",
    "\n",
    "# Make sure directories exist\n",
    "os.makedirs(\"/kaggle/working/checkpoints\", exist_ok=True)\n",
    "\n",
    "# Check GPU\n",
    "!nvidia-smi\n",
    "\n",
    "# Optional: Install libraries if needed\n",
    "# !pip install torch torchvision pytorch-lightning --quiet\n"
   ]
  },
  {
   "cell_type": "code",
   "execution_count": 16,
   "metadata": {
    "execution": {
     "iopub.execute_input": "2025-10-20T07:58:52.100069Z",
     "iopub.status.busy": "2025-10-20T07:58:52.099807Z",
     "iopub.status.idle": "2025-10-20T07:58:52.107001Z",
     "shell.execute_reply": "2025-10-20T07:58:52.106380Z",
     "shell.execute_reply.started": "2025-10-20T07:58:52.100049Z"
    },
    "trusted": true
   },
   "outputs": [],
   "source": [
    "\n",
    "# 💾 Helper functions to save and load training state (model + optimizer + epoch)\n",
    "import torch\n",
    "\n",
    "def save_checkpoint(model, optimizer, epoch, path=\"/kaggle/working/checkpoints/model_checkpoint.pth\"):\n",
    "    checkpoint = {\n",
    "        'model_state_dict': model.state_dict(),\n",
    "        'optimizer_state_dict': optimizer.state_dict(),\n",
    "        'epoch': epoch\n",
    "    }\n",
    "    torch.save(checkpoint, path)\n",
    "    print(f\"✅ Checkpoint saved at {path}\")\n",
    "\n",
    "def load_checkpoint(model, optimizer, path=\"/kaggle/working/checkpoints/model_checkpoint.pth\"):\n",
    "    if os.path.exists(path):\n",
    "        checkpoint = torch.load(path, map_location=\"cuda\" if torch.cuda.is_available() else \"cpu\")\n",
    "        model.load_state_dict(checkpoint['model_state_dict'])\n",
    "        optimizer.load_state_dict(checkpoint['optimizer_state_dict'])\n",
    "        start_epoch = checkpoint['epoch'] + 1\n",
    "        print(f\"✅ Checkpoint loaded from {path}, starting at epoch {start_epoch}\")\n",
    "        return start_epoch\n",
    "    else:\n",
    "        print(\"⚠️ No checkpoint found, starting from scratch\")\n",
    "        return 0\n",
    "\n",
    "# 📤 Save a copy of the checkpoint to root for Kaggle Output persistence\n",
    "import shutil\n",
    "\n",
    "def export_checkpoint_for_kaggle():\n",
    "    src = \"/kaggle/working/checkpoints/model_checkpoint.pth\"\n",
    "    dst = \"/kaggle/working/model_checkpoint.pth\"\n",
    "    if os.path.exists(src):\n",
    "        shutil.copy(src, dst)\n",
    "        print(f\"✅ Exported checkpoint to {dst} for Kaggle Output persistence\")"
   ]
  },
  {
   "cell_type": "code",
   "execution_count": null,
   "metadata": {
    "trusted": true
   },
   "outputs": [],
   "source": []
  },
  {
   "cell_type": "code",
   "execution_count": null,
   "metadata": {
    "execution": {
     "iopub.execute_input": "2025-10-20T07:58:56.084645Z",
     "iopub.status.busy": "2025-10-20T07:58:56.084393Z",
     "iopub.status.idle": "2025-10-20T07:58:57.082877Z",
     "shell.execute_reply": "2025-10-20T07:58:57.082145Z",
     "shell.execute_reply.started": "2025-10-20T07:58:56.084628Z"
    },
    "executionInfo": {
     "elapsed": 1108,
     "status": "ok",
     "timestamp": 1760719330802,
     "user": {
      "displayName": "Mohan",
      "userId": "06552445326308276007"
     },
     "user_tz": -330
    },
    "id": "5gkeON50mYyI",
    "outputId": "4a6d3556-c059-418b-fc79-fc33488f85f9",
    "trusted": true
   },
   "outputs": [
    {
     "name": "stdout",
     "output_type": "stream",
     "text": [
      "ref                                                       title                                                size  lastUpdated                 downloadCount  voteCount  usabilityRating  \n",
      "--------------------------------------------------------  --------------------------------------------  -----------  --------------------------  -------------  ---------  ---------------  \n",
      "wanghaohan/imagenetsketch                                 ImageNet-Sketch                               15219198396  2019-06-18 13:45:50.200000           4239         62  0.625            \n",
      "vitaliykinakh/stable-imagenet1k                           Stable ImageNet-1K                            10519983320  2022-09-08 22:19:54.953000           3665         47  0.9375           \n",
      "akash2sharma/tiny-imagenet                                Tiny ImageNet                                   497536564  2018-09-27 12:11:20.917000          20604        219  0.3125           \n",
      "deeptrial/miniimagenet                                    Mini-ImageNet                                   500063525  2022-12-03 09:40:27.650000           3071         23  1.0              \n",
      "lijiyu/imagenet                                           imagenet                                       6670715912  2019-09-09 11:27:44.687000           5533         65  0.25             \n",
      "ifigotin/imagenetmini-1000                                ImageNet 1000 (mini)                           4211443423  2020-03-10 01:05:11.963000          27358        191  0.375            \n",
      "ambityga/imagenet100                                      ImageNet100                                   17293937662  2021-08-02 13:48:23.860000          15173         93  0.5625           \n",
      "whitemoon/miniimagenet                                    mini-imagenet                                  1073666401  2019-11-15 12:28:33.783000           3476         37  0.4375           \n"
     ]
    }
   ],
   "source": [
    "import json, os\n",
    "\n",
    "# ✅ Hardcoded Kaggle credentials (replace with your actual values)\n",
    "kaggle_credentials = {\"username\":\"<placeholder>\",\"key\":\"<placeholder>\"}\n",
    "\n",
    "# Write kaggle.json file\n",
    "os.makedirs(os.path.expanduser(\"~/.kaggle\"), exist_ok=True)\n",
    "with open(os.path.expanduser(\"~/.kaggle/kaggle.json\"), \"w\") as f:\n",
    "    json.dump(kaggle_credentials, f)\n",
    "\n",
    "# Set permissions\n",
    "os.chmod(os.path.expanduser(\"~/.kaggle/kaggle.json\"), 0o600)\n",
    "!kaggle datasets list -s imagenet | head"
   ]
  },
  {
   "cell_type": "code",
   "execution_count": null,
   "metadata": {
    "execution": {
     "iopub.execute_input": "2025-10-20T08:05:48.616054Z",
     "iopub.status.busy": "2025-10-20T08:05:48.615383Z",
     "iopub.status.idle": "2025-10-20T08:06:37.442597Z",
     "shell.execute_reply": "2025-10-20T08:06:37.441599Z",
     "shell.execute_reply.started": "2025-10-20T08:05:48.616028Z"
    },
    "trusted": true
   },
   "outputs": [
    {
     "name": "stdout",
     "output_type": "stream",
     "text": [
      "Dataset URL: https://www.kaggle.com/datasets/wilyzh/imagenet100\n",
      "License(s): unknown\n",
      "^C\n",
      "User cancelled operation\n"
     ]
    }
   ],
   "source": [
    "# 📥 Step 1: Download ImageNet Mini (1000 classes)\n",
    "!kaggle datasets download -d wilyzh/imagenet100\n",
    "!unzip -q imagenet100.zip -d /content/imagenet_mini\n",
    "!ls /content/imagenet_mini"
   ]
  },
  {
   "cell_type": "code",
   "execution_count": null,
   "metadata": {
    "execution": {
     "iopub.execute_input": "2025-10-20T07:58:02.330281Z",
     "iopub.status.busy": "2025-10-20T07:58:02.329902Z",
     "iopub.status.idle": "2025-10-20T07:58:02.334799Z",
     "shell.execute_reply": "2025-10-20T07:58:02.334073Z",
     "shell.execute_reply.started": "2025-10-20T07:58:02.330239Z"
    },
    "executionInfo": {
     "elapsed": 136654,
     "status": "ok",
     "timestamp": 1760719467474,
     "user": {
      "displayName": "Mohan",
      "userId": "06552445326308276007"
     },
     "user_tz": -330
    },
    "id": "KoMrLQFumYyJ",
    "outputId": "72e20324-5ca4-4062-ab07-ff620fce1532",
    "trusted": true
   },
   "outputs": [],
   "source": [
    "# # 📥 Step 1: Download ImageNet Mini (1000 classes) 3GB\n",
    "# !kaggle datasets download -d ifigotin/imagenetmini-1000\n",
    "# !unzip -q imagenetmini-1000.zip -d /content/imagenet_mini\n",
    "# !ls /content/imagenet_mini"
   ]
  },
  {
   "cell_type": "code",
   "execution_count": null,
   "metadata": {
    "execution": {
     "iopub.execute_input": "2025-10-20T08:07:31.023159Z",
     "iopub.status.busy": "2025-10-20T08:07:31.022826Z",
     "iopub.status.idle": "2025-10-20T08:07:31.035693Z",
     "shell.execute_reply": "2025-10-20T08:07:31.035145Z",
     "shell.execute_reply.started": "2025-10-20T08:07:31.023116Z"
    },
    "executionInfo": {
     "elapsed": 16,
     "status": "ok",
     "timestamp": 1760719467493,
     "user": {
      "displayName": "Mohan",
      "userId": "06552445326308276007"
     },
     "user_tz": -330
    },
    "id": "0C6A2m6GmYyJ",
    "outputId": "0f50f9ee-d009-4842-efbb-2bea6fb2aa33",
    "trusted": true
   },
   "outputs": [
    {
     "name": "stdout",
     "output_type": "stream",
     "text": [
      "Total classes available: 100\n"
     ]
    }
   ],
   "source": [
    "# ✂️ Step 2: Pick 25 classes\n",
    "import os, random, shutil\n",
    "\n",
    "src_train = '/kaggle/input/imagenet100/ImageNet100/train/'\n",
    "src_val = '/kaggle/input/imagenet100/ImageNet100/val/'\n",
    "\n",
    "all_classes = sorted(os.listdir(src_train))\n",
    "print(f\"Total classes available: {len(all_classes)}\")\n"
   ]
  },
  {
   "cell_type": "code",
   "execution_count": null,
   "metadata": {
    "execution": {
     "iopub.execute_input": "2025-10-20T08:07:33.596995Z",
     "iopub.status.busy": "2025-10-20T08:07:33.596349Z",
     "iopub.status.idle": "2025-10-20T08:11:53.412999Z",
     "shell.execute_reply": "2025-10-20T08:11:53.411974Z",
     "shell.execute_reply.started": "2025-10-20T08:07:33.596962Z"
    },
    "executionInfo": {
     "elapsed": 9818,
     "status": "ok",
     "timestamp": 1760719477325,
     "user": {
      "displayName": "Mohan",
      "userId": "06552445326308276007"
     },
     "user_tz": -330
    },
    "id": "hia_jS6XmYyJ",
    "outputId": "663c34b7-2830-4f31-8e56-66470221b32f",
    "trusted": true
   },
   "outputs": [
    {
     "name": "stdout",
     "output_type": "stream",
     "text": [
      "✅ 100 classes | 126689 train | 5000 val\n"
     ]
    }
   ],
   "source": [
    "# 🧠 Step 4: Data loaders with advanced augmentation\n",
    "import torch\n",
    "from torch.utils.data import DataLoader\n",
    "from torchvision import datasets, transforms\n",
    "from torch.utils.data import RandomSampler\n",
    "from model import ResNet50\n",
    "from train import train, train_transforms, test_transforms\n",
    "from test import evaluate\n",
    "\n",
    "# Enhanced batch size and workers for better utilization\n",
    "BATCH_SIZE = 128  # Reduced for better generalization\n",
    "NUM_WORKERS = 4  # Increased for faster data loading\n",
    "\n",
    "# Datasets with different transforms\n",
    "train_dataset = datasets.ImageFolder(src_train, transform=train_transforms(augment=True))\n",
    "val_dataset = datasets.ImageFolder(src_val, transform=test_transforms())\n",
    "\n",
    "train_loader = DataLoader(\n",
    "    train_dataset, \n",
    "    batch_size=BATCH_SIZE, \n",
    "    shuffle=True, \n",
    "    num_workers=NUM_WORKERS,\n",
    "    pin_memory=True,  # Faster data transfer to GPU\n",
    "    prefetch_factor=2  # Prefetch 2 batches per worker\n",
    ")\n",
    "\n",
    "test_loader = DataLoader(\n",
    "    val_dataset, \n",
    "    batch_size=BATCH_SIZE, \n",
    "    shuffle=False, \n",
    "    num_workers=NUM_WORKERS,\n",
    "    pin_memory=True,\n",
    "    prefetch_factor=2\n",
    ")\n",
    "\n",
    "num_classes = len(train_dataset.classes)\n",
    "print(f'✅ {num_classes} classes | {len(train_dataset)} train | {len(val_dataset)} val')"
   ]
  },
  {
   "cell_type": "code",
   "execution_count": null,
   "metadata": {
    "execution": {
     "iopub.execute_input": "2025-10-20T08:12:04.582330Z",
     "iopub.status.busy": "2025-10-20T08:12:04.581631Z",
     "iopub.status.idle": "2025-10-20T08:12:05.238038Z",
     "shell.execute_reply": "2025-10-20T08:12:05.237148Z",
     "shell.execute_reply.started": "2025-10-20T08:12:04.582297Z"
    },
    "executionInfo": {
     "elapsed": 760,
     "status": "ok",
     "timestamp": 1760719478298,
     "user": {
      "displayName": "Mohan",
      "userId": "06552445326308276007"
     },
     "user_tz": -330
    },
    "id": "3PTbED9lJel7",
    "trusted": true
   },
   "outputs": [],
   "source": [
    "# 🏋️ Step 5: Train ResNet-50 with optimizations\n",
    "import torch.nn as nn\n",
    "import torch.optim as optim\n",
    "from tqdm import tqdm\n",
    "import numpy as np\n",
    "\n",
    "# Enhanced training settings\n",
    "EPOCHS = 150  # Increased epochs for better convergence\n",
    "LABEL_SMOOTHING = 0.15  # Increased label smoothing\n",
    "MAX_LR = 2e-3  # Slightly increased learning rate\n",
    "MIN_LR = 1e-6\n",
    "WEIGHT_DECAY = 2e-4  # Increased weight decay for better regularization\n",
    "GRAD_CLIP = 1.0\n",
    "MIXUP_ALPHA = 0.4  # Increased mixup alpha for better regularization\n",
    "\n",
    "# Initialize model using custom implementation\n",
    "device = torch.device('cuda' if torch.cuda.is_available() else 'cpu')\n",
    "model = ResNet50(num_classes=len(all_classes))\n",
    "model = model.to(device)\n",
    "\n",
    "# Loss function with label smoothing\n",
    "criterion = nn.CrossEntropyLoss(label_smoothing=LABEL_SMOOTHING)\n",
    "\n",
    "# Optimizer with weight decay\n",
    "optimizer = optim.AdamW(\n",
    "    model.parameters(),\n",
    "    lr=MAX_LR,\n",
    "    weight_decay=WEIGHT_DECAY,\n",
    "    betas=(0.9, 0.999)\n",
    ")\n",
    "\n",
    "# Enhanced learning rate scheduler\n",
    "steps_per_epoch = len(train_loader)\n",
    "scheduler = optim.lr_scheduler.OneCycleLR(\n",
    "    optimizer,\n",
    "    max_lr=MAX_LR,\n",
    "    steps_per_epoch=steps_per_epoch,\n",
    "    epochs=EPOCHS,\n",
    "    pct_start=0.15,  # 15% warmup\n",
    "    anneal_strategy='cos',\n",
    "    cycle_momentum=True,\n",
    "    base_momentum=0.85,\n",
    "    max_momentum=0.95,\n",
    "    div_factor=25.0,\n",
    "    final_div_factor=1000.0\n",
    ")\n",
    "\n",
    "# Enhanced Mixup augmentation\n",
    "def mixup_data(x, y, alpha=MIXUP_ALPHA):\n",
    "    if alpha > 0:\n",
    "        lam = np.random.beta(alpha, alpha)\n",
    "    else:\n",
    "        lam = 1\n",
    "\n",
    "    batch_size = x.size()[0]\n",
    "    index = torch.randperm(batch_size).to(device)\n",
    "\n",
    "    mixed_x = lam * x + (1 - lam) * x[index, :]\n",
    "    y_a, y_b = y, y[index]\n",
    "    return mixed_x, y_a, y_b, lam\n",
    "\n",
    "def mixup_criterion(criterion, pred, y_a, y_b, lam):\n",
    "    return lam * criterion(pred, y_a) + (1 - lam) * criterion(pred, y_b)\n",
    "\n",
    "# Set paths for checkpoints\n",
    "best_val_acc = 0\n",
    "checkpoint_dir = '/kaggle/working/checkpoints'\n",
    "checkpoint_path = f'{checkpoint_dir}/model_checkpoint.pth'\n",
    "best_model_path = f'{checkpoint_dir}/model_best.pth'\n",
    "\n",
    "# Create checkpoint directory\n",
    "os.makedirs(checkpoint_dir, exist_ok=True)"
   ]
  },
  {
   "cell_type": "code",
   "execution_count": 33,
   "metadata": {
    "execution": {
     "iopub.execute_input": "2025-10-20T08:12:07.779924Z",
     "iopub.status.busy": "2025-10-20T08:12:07.779658Z",
     "iopub.status.idle": "2025-10-20T08:12:09.343761Z",
     "shell.execute_reply": "2025-10-20T08:12:09.342923Z",
     "shell.execute_reply.started": "2025-10-20T08:12:07.779903Z"
    },
    "executionInfo": {
     "elapsed": 3,
     "status": "ok",
     "timestamp": 1760719478303,
     "user": {
      "displayName": "Mohan",
      "userId": "06552445326308276007"
     },
     "user_tz": -330
    },
    "id": "UcRlzX-EJeZr",
    "trusted": true
   },
   "outputs": [
    {
     "name": "stdout",
     "output_type": "stream",
     "text": [
      "✅ Checkpoint loaded from /kaggle/working/checkpoints/model_checkpoint.pth, starting at epoch 68\n"
     ]
    }
   ],
   "source": [
    "# 🔁 Auto Resume Training if Checkpoint Exists\n",
    "start_epoch = load_checkpoint(model, optimizer)\n"
   ]
  },
  {
   "cell_type": "code",
   "execution_count": 35,
   "metadata": {
    "execution": {
     "iopub.execute_input": "2025-10-20T08:14:12.526086Z",
     "iopub.status.busy": "2025-10-20T08:14:12.525423Z",
     "iopub.status.idle": "2025-10-20T08:14:12.907543Z",
     "shell.execute_reply": "2025-10-20T08:14:12.906823Z",
     "shell.execute_reply.started": "2025-10-20T08:14:12.526054Z"
    },
    "trusted": true
   },
   "outputs": [
    {
     "name": "stdout",
     "output_type": "stream",
     "text": [
      "📊 Resumed from epoch 67\n",
      "🎯 Best validation accuracy: 84.20%\n"
     ]
    }
   ],
   "source": [
    "checkpoint = torch.load('/kaggle/working/checkpoints/model_checkpoint.pth', map_location=device)\n",
    "model.load_state_dict(checkpoint['model_state_dict'])\n",
    "optimizer.load_state_dict(checkpoint['optimizer_state_dict'])\n",
    "\n",
    "if 'scheduler_state_dict' in checkpoint:\n",
    "    scheduler.load_state_dict(checkpoint['scheduler_state_dict'])\n",
    "\n",
    "global best_val_acc\n",
    "best_val_acc = checkpoint.get('best_val_acc', 0)\n",
    "start_epoch = checkpoint['epoch'] + 1\n",
    "\n",
    "print(f\"📊 Resumed from epoch {checkpoint['epoch']}\")\n",
    "print(f\"🎯 Best validation accuracy: {best_val_acc:.2f}%\")"
   ]
  },
  {
   "cell_type": "code",
   "execution_count": null,
   "metadata": {
    "execution": {
     "iopub.execute_input": "2025-10-20T08:14:25.294769Z",
     "iopub.status.busy": "2025-10-20T08:14:25.294257Z",
     "iopub.status.idle": "2025-10-20T09:17:46.618046Z",
     "shell.execute_reply": "2025-10-20T09:17:46.616990Z",
     "shell.execute_reply.started": "2025-10-20T08:14:25.294746Z"
    },
    "id": "MrfkWf3XmYyK",
    "outputId": "e471030e-9f0e-4b2e-d954-85316e6bb82f",
    "trusted": true
   },
   "outputs": [
    {
     "name": "stdout",
     "output_type": "stream",
     "text": [
      "🚀 Starting training for 100 epochs...\n",
      "💡 Using device: cuda\n",
      "📊 Training samples: 126689\n",
      "📊 Validation samples: 5000\n",
      "\n",
      "📅 EPOCH: 69/100\n"
     ]
    },
    {
     "name": "stderr",
     "output_type": "stream",
     "text": [
      "Epoch 69/100: 100%|██████████| 990/990 [15:43<00:00,  1.05it/s, loss=1.716, acc=43.47%, lr=0.000265]\n",
      "Evaluating: 100%|██████████| 40/40 [00:35<00:00,  1.13it/s, loss=0.011, acc=84.20%]\n"
     ]
    },
    {
     "name": "stdout",
     "output_type": "stream",
     "text": [
      "\n",
      "Test set: Average loss: 0.011, Accuracy: 84.20%\n",
      "💾 Checkpoint saved at epoch 69\n",
      "⏳ No improvement for 1 epochs. Best accuracy: 84.20%\n",
      "\n",
      "📅 EPOCH: 70/100\n"
     ]
    },
    {
     "name": "stderr",
     "output_type": "stream",
     "text": [
      "Epoch 70/100: 100%|██████████| 990/990 [11:16<00:00,  1.46it/s, loss=1.725, acc=43.18%, lr=0.000250]\n",
      "Evaluating: 100%|██████████| 40/40 [00:22<00:00,  1.77it/s, loss=0.011, acc=83.90%]\n"
     ]
    },
    {
     "name": "stdout",
     "output_type": "stream",
     "text": [
      "\n",
      "Test set: Average loss: 0.011, Accuracy: 83.90%\n",
      "💾 Checkpoint saved at epoch 70\n",
      "⏳ No improvement for 2 epochs. Best accuracy: 84.20%\n",
      "\n",
      "📅 EPOCH: 71/100\n"
     ]
    },
    {
     "name": "stderr",
     "output_type": "stream",
     "text": [
      "Epoch 71/100: 100%|██████████| 990/990 [11:16<00:00,  1.46it/s, loss=1.745, acc=42.46%, lr=0.000235]\n",
      "Evaluating: 100%|██████████| 40/40 [00:22<00:00,  1.75it/s, loss=0.011, acc=83.94%]\n"
     ]
    },
    {
     "name": "stdout",
     "output_type": "stream",
     "text": [
      "\n",
      "Test set: Average loss: 0.011, Accuracy: 83.94%\n",
      "💾 Checkpoint saved at epoch 71\n",
      "⏳ No improvement for 3 epochs. Best accuracy: 84.20%\n",
      "\n",
      "📅 EPOCH: 72/100\n"
     ]
    },
    {
     "name": "stderr",
     "output_type": "stream",
     "text": [
      "Epoch 72/100: 100%|██████████| 990/990 [11:15<00:00,  1.47it/s, loss=1.691, acc=42.56%, lr=0.000220]\n",
      "Evaluating: 100%|██████████| 40/40 [00:22<00:00,  1.76it/s, loss=0.011, acc=83.68%]\n"
     ]
    },
    {
     "name": "stdout",
     "output_type": "stream",
     "text": [
      "\n",
      "Test set: Average loss: 0.011, Accuracy: 83.68%\n",
      "💾 Checkpoint saved at epoch 72\n",
      "⏳ No improvement for 4 epochs. Best accuracy: 84.20%\n",
      "\n",
      "📅 EPOCH: 73/100\n"
     ]
    },
    {
     "name": "stderr",
     "output_type": "stream",
     "text": [
      "Epoch 73/100: 100%|██████████| 990/990 [11:36<00:00,  1.42it/s, loss=1.711, acc=44.66%, lr=0.000206]\n",
      "Evaluating: 100%|██████████| 40/40 [00:24<00:00,  1.66it/s, loss=0.011, acc=83.88%]\n"
     ]
    },
    {
     "name": "stdout",
     "output_type": "stream",
     "text": [
      "\n",
      "Test set: Average loss: 0.011, Accuracy: 83.88%\n",
      "💾 Checkpoint saved at epoch 73\n",
      "⏳ No improvement for 5 epochs. Best accuracy: 84.20%\n",
      "\n",
      "⚠️ Early stopping triggered! No improvement for 5 epochs.\n",
      "🎯 Best validation accuracy: 84.20%\n",
      "\n",
      "✅ Training completed!\n",
      "🎯 Best validation accuracy: 84.20%\n"
     ]
    }
   ],
   "source": [
    "# Required imports for mixup\n",
    "import numpy as np\n",
    "\n",
    "# Enhanced training loop with better early stopping\n",
    "patience = 10  # Increased patience for better convergence\n",
    "patience_counter = 0\n",
    "best_epoch = 0\n",
    "\n",
    "print(f\"🚀 Starting training for {EPOCHS} epochs...\")\n",
    "print(f\"💡 Using device: {device}\")\n",
    "print(f\"📊 Training samples: {len(train_dataset)}\")\n",
    "print(f\"📊 Validation samples: {len(val_dataset)}\")\n",
    "\n",
    "for epoch in range(start_epoch, EPOCHS):\n",
    "    print(f\"\\n📅 EPOCH: {epoch+1}/{EPOCHS}\")\n",
    "    \n",
    "    # Clear memory\n",
    "    if torch.cuda.is_available():\n",
    "        torch.cuda.empty_cache()\n",
    "    \n",
    "    # Training phase with learning rate logging\n",
    "    current_lr = optimizer.param_groups[0]['lr']\n",
    "    print(f\"Current learning rate: {current_lr:.6f}\")\n",
    "    \n",
    "    train(model, train_loader, criterion, optimizer, device, epoch)\n",
    "    \n",
    "    # Validation phase\n",
    "    val_acc = test(model, test_loader, device)\n",
    "    \n",
    "    # Save checkpoint\n",
    "    checkpoint = {\n",
    "        'epoch': epoch,\n",
    "        'model_state_dict': model.state_dict(),\n",
    "        'optimizer_state_dict': optimizer.state_dict(),\n",
    "        'scheduler_state_dict': scheduler.state_dict(),\n",
    "        'best_val_acc': best_val_acc,\n",
    "    }\n",
    "    \n",
    "    # Save regular checkpoint\n",
    "    torch.save(checkpoint, checkpoint_path)\n",
    "    print(f\"💾 Checkpoint saved at epoch {epoch+1}\")\n",
    "    \n",
    "    # Early stopping and best model saving\n",
    "    if val_acc > best_val_acc:\n",
    "        improvement = val_acc - best_val_acc\n",
    "        best_val_acc = val_acc\n",
    "        best_epoch = epoch\n",
    "        patience_counter = 0\n",
    "        \n",
    "        # Save best model\n",
    "        torch.save(checkpoint, best_model_path)\n",
    "        print(f\"🏆 New best model saved! (val_acc={val_acc:.2f}%, improvement: +{improvement:.2f}%)\")\n",
    "        \n",
    "        # Export to Kaggle output\n",
    "        kaggle_output = '/kaggle/working'\n",
    "        for filename in ['model_checkpoint.pth', 'model_best.pth']:\n",
    "            src = os.path.join(checkpoint_dir, filename)\n",
    "            dst = os.path.join(kaggle_output, filename)\n",
    "            if os.path.exists(src):\n",
    "                shutil.copy(src, dst)\n",
    "                print(f\"📤 Exported {filename} to Kaggle output\")\n",
    "    else:\n",
    "        patience_counter += 1\n",
    "        print(f\"⏳ No improvement for {patience_counter} epochs. \"\n",
    "              f\"Best accuracy: {best_val_acc:.2f}% (epoch {best_epoch+1})\")\n",
    "    \n",
    "    # Early stopping with more informative message\n",
    "    if patience_counter >= patience:\n",
    "        print(f\"\\n⚠️ Early stopping triggered! No improvement for {patience} epochs.\")\n",
    "        print(f\"🎯 Best validation accuracy: {best_val_acc:.2f}% (achieved at epoch {best_epoch+1})\")\n",
    "        break\n",
    "    \n",
    "    # Step the scheduler\n",
    "    scheduler.step()\n",
    "    \n",
    "print(\"\\n✅ Training completed!\")\n",
    "print(f\"🎯 Best validation accuracy: {best_val_acc:.2f}% (achieved at epoch {best_epoch+1})\")"
   ]
  },
  {
   "cell_type": "code",
   "execution_count": null,
   "metadata": {
    "execution": {
     "iopub.status.busy": "2025-10-20T07:58:02.398287Z",
     "iopub.status.idle": "2025-10-20T07:58:02.398582Z",
     "shell.execute_reply": "2025-10-20T07:58:02.398458Z",
     "shell.execute_reply.started": "2025-10-20T07:58:02.398444Z"
    },
    "id": "IBtfGYSDOiqT",
    "trusted": true
   },
   "outputs": [],
   "source": [
    "# # Plotting results\n",
    "# import matplotlib.pyplot as plt\n",
    "# fig, axs = plt.subplots(2,2,figsize=(15,10))\n",
    "# axs[0, 0].plot([t.item() for t in train_losses])\n",
    "# axs[0, 0].set_title(\"Training Loss\")\n",
    "# axs[1, 0].plot(train_acc)\n",
    "# axs[1, 0].set_title(\"Training Accuracy\")\n",
    "# axs[0, 1].plot(test_losses)\n",
    "# axs[0, 1].set_title(\"Test Loss\")\n",
    "# axs[1, 1].plot(test_acc)\n",
    "# axs[1, 1].set_title(\"Test Accuracy\")\n",
    "# plt.show()"
   ]
  },
  {
   "cell_type": "code",
   "execution_count": null,
   "metadata": {
    "id": "BK6eqXV1np0e",
    "trusted": true
   },
   "outputs": [],
   "source": []
  }
 ],
 "metadata": {
  "accelerator": "GPU",
  "colab": {
   "gpuType": "T4",
   "provenance": []
  },
  "kaggle": {
   "accelerator": "gpu",
   "dataSources": [
    {
     "datasetId": 8530847,
     "sourceId": 13440930,
     "sourceType": "datasetVersion"
    },
    {
     "datasetId": 1812295,
     "sourceId": 2955941,
     "sourceType": "datasetVersion"
    }
   ],
   "dockerImageVersionId": 31154,
   "isGpuEnabled": true,
   "isInternetEnabled": true,
   "language": "python",
   "sourceType": "notebook"
  },
  "kernelspec": {
   "display_name": "Python 3",
   "language": "python",
   "name": "python3"
  },
  "language_info": {
   "codemirror_mode": {
    "name": "ipython",
    "version": 3
   },
   "file_extension": ".py",
   "mimetype": "text/x-python",
   "name": "python",
   "nbconvert_exporter": "python",
   "pygments_lexer": "ipython3",
   "version": "3.11.13"
  }
 },
 "nbformat": 4,
 "nbformat_minor": 4
}
